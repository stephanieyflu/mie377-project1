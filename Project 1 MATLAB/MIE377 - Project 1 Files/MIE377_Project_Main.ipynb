{
 "cells": [
  {
   "cell_type": "markdown",
   "metadata": {
    "collapsed": false
   },
   "source": [
    "\n",
    "# MMF1921/MIE377 - Backtesting Template\n",
    "\n",
    "The purpose of this program is to provide a template with which to develop Project 2. The project requires you to test different models  (and/or different model combinations) to create an asset management algorithm.\n",
    "\n",
    "This template will be used by the instructor and TA to assess your trading algorithm using different datasets.\n",
    "\n",
    "# PLEASE DO NOT MODIFY THIS TEMPLATE (for Project submission purposes)\n",
    "\n",
    "# 1. Read input files"
   ]
  },
  {
   "cell_type": "code",
   "execution_count": 1,
   "metadata": {
    "ExecuteTime": {
     "end_time": "2023-08-26T06:31:32.645343400Z",
     "start_time": "2023-08-26T06:31:32.625072400Z"
    },
    "collapsed": false
   },
   "outputs": [],
   "source": [
    "import time\n",
    "import math\n",
    "from scipy.stats import gmean\n",
    "import matplotlib.pyplot as plt\n",
    "from services.project_function import *\n",
    "import pandas as pd\n",
    "\n",
    "adjClose = pd.read_csv(\"MIE377_AssetPrices.csv\", index_col=0)\n",
    "factorRet = pd.read_csv(\"MIE377_FactorReturns.csv\", index_col=0)"
   ]
  },
  {
   "cell_type": "code",
   "execution_count": 2,
   "metadata": {
    "ExecuteTime": {
     "end_time": "2023-08-26T06:30:57.576025400Z",
     "start_time": "2023-08-26T06:30:57.563016800Z"
    },
    "collapsed": false
   },
   "outputs": [],
   "source": [
    "adjClose.index = pd.to_datetime(adjClose.index)\n",
    "factorRet.index = pd.to_datetime(factorRet.index)"
   ]
  },
  {
   "cell_type": "code",
   "execution_count": 3,
   "metadata": {
    "ExecuteTime": {
     "end_time": "2023-08-26T06:30:57.600965500Z",
     "start_time": "2023-08-26T06:30:57.577047400Z"
    },
    "collapsed": false
   },
   "outputs": [],
   "source": [
    "# Initial budget to invest ($100,000)\n",
    "initialVal = 100000\n",
    "\n",
    "# Length of investment period (in months)\n",
    "investPeriod = 6\n",
    "\n",
    "# divide the factor returns by  100\n",
    "factorRet = factorRet/100\n",
    "\n",
    "#rf and factor returns\n",
    "riskFree = factorRet['RF']\n",
    "factorRet = factorRet.loc[:,factorRet.columns != 'RF'];\n"
   ]
  },
  {
   "cell_type": "code",
   "execution_count": 4,
   "metadata": {
    "ExecuteTime": {
     "end_time": "2023-08-26T06:30:57.607868700Z",
     "start_time": "2023-08-26T06:30:57.591998100Z"
    },
    "collapsed": false
   },
   "outputs": [],
   "source": [
    "#Identify the tickers and the dates\n",
    "tickers = adjClose.columns\n",
    "dates   = factorRet.index"
   ]
  },
  {
   "cell_type": "code",
   "execution_count": 5,
   "metadata": {
    "ExecuteTime": {
     "end_time": "2023-08-26T06:30:57.641674300Z",
     "start_time": "2023-08-26T06:30:57.607868700Z"
    },
    "collapsed": false
   },
   "outputs": [],
   "source": [
    "# Calculate the stocks monthly excess returns\n",
    "# pct change and drop the first null observation\n",
    "returns = adjClose.pct_change(1).iloc[1:, :]\n",
    "\n",
    "\n",
    "returns = returns  - np.diag(riskFree.values) @ np.ones_like(returns.values)\n",
    "# Align the price table to the asset and factor returns tables by discarding the first observation.\n",
    "adjClose = adjClose.iloc[1:,:]"
   ]
  },
  {
   "cell_type": "code",
   "execution_count": 6,
   "metadata": {
    "ExecuteTime": {
     "end_time": "2023-08-26T06:30:57.653976500Z",
     "start_time": "2023-08-26T06:30:57.640676200Z"
    },
    "collapsed": false
   },
   "outputs": [],
   "source": [
    "assert adjClose.index[0] == returns.index[0]\n",
    "assert adjClose.index[0] == factorRet.index[0]"
   ]
  },
  {
   "cell_type": "markdown",
   "metadata": {
    "collapsed": false
   },
   "source": [
    "# 2. Run your program\n",
    "\n",
    "This section will run your Project1_Function in a loop. The data will be loaded progressively as a growing window of historical observations.\n",
    "Rebalancing will take place after every loop"
   ]
  },
  {
   "cell_type": "code",
   "execution_count": 7,
   "metadata": {
    "ExecuteTime": {
     "end_time": "2023-08-26T06:30:58.476925600Z",
     "start_time": "2023-08-26T06:30:57.697474100Z"
    },
    "collapsed": false
   },
   "outputs": [
    {
     "name": "stdout",
     "output_type": "stream",
     "text": [
      "periodReturns: (60, 20)\n",
      "x0: 20\n"
     ]
    },
    {
     "name": "stdout",
     "output_type": "stream",
     "text": [
      "Data appended to 'portfolios_aes.csv'.\n",
      "Data with scores updated to 'portfolios_aes.csv'.\n",
      "periodReturns: (66, 20)\n",
      "x0: 20\n",
      "Data appended to 'portfolios_aes.csv'.\n",
      "Data with scores updated to 'portfolios_aes.csv'.\n",
      "periodReturns: (72, 20)\n",
      "x0: 20\n",
      "Data appended to 'portfolios_aes.csv'.\n",
      "Data with scores updated to 'portfolios_aes.csv'.\n",
      "periodReturns: (78, 20)\n",
      "x0: 20\n",
      "Data appended to 'portfolios_aes.csv'.\n",
      "Data with scores updated to 'portfolios_aes.csv'.\n",
      "periodReturns: (84, 20)\n",
      "x0: 20\n",
      "Data appended to 'portfolios_aes.csv'.\n",
      "Data with scores updated to 'portfolios_aes.csv'.\n",
      "periodReturns: (90, 20)\n",
      "x0: 20\n",
      "Data appended to 'portfolios_aes.csv'.\n",
      "Data with scores updated to 'portfolios_aes.csv'.\n",
      "periodReturns: (96, 20)\n",
      "x0: 20\n",
      "Data appended to 'portfolios_aes.csv'.\n",
      "Data with scores updated to 'portfolios_aes.csv'.\n",
      "periodReturns: (102, 20)\n",
      "x0: 20\n",
      "Data appended to 'portfolios_aes.csv'.\n",
      "Data with scores updated to 'portfolios_aes.csv'.\n",
      "periodReturns: (108, 20)\n",
      "x0: 20\n",
      "Data appended to 'portfolios_aes.csv'.\n",
      "Data with scores updated to 'portfolios_aes.csv'.\n",
      "periodReturns: (114, 20)\n",
      "x0: 20\n",
      "Data appended to 'portfolios_aes.csv'.\n",
      "Data with scores updated to 'portfolios_aes.csv'.\n",
      "periodReturns: (120, 20)\n",
      "x0: 20\n",
      "Data appended to 'portfolios_aes.csv'.\n",
      "Data with scores updated to 'portfolios_aes.csv'.\n",
      "periodReturns: (126, 20)\n",
      "x0: 20\n",
      "Data appended to 'portfolios_aes.csv'.\n",
      "Data with scores updated to 'portfolios_aes.csv'.\n",
      "periodReturns: (132, 20)\n",
      "x0: 20\n",
      "Data appended to 'portfolios_aes.csv'.\n",
      "Data with scores updated to 'portfolios_aes.csv'.\n",
      "periodReturns: (138, 20)\n",
      "x0: 20\n",
      "Data appended to 'portfolios_aes.csv'.\n",
      "Data with scores updated to 'portfolios_aes.csv'.\n",
      "periodReturns: (144, 20)\n",
      "x0: 20\n",
      "Data appended to 'portfolios_aes.csv'.\n",
      "Data with scores updated to 'portfolios_aes.csv'.\n",
      "periodReturns: (150, 20)\n",
      "x0: 20\n",
      "Data appended to 'portfolios_aes.csv'.\n",
      "Data with scores updated to 'portfolios_aes.csv'.\n",
      "periodReturns: (156, 20)\n",
      "x0: 20\n",
      "Data appended to 'portfolios_aes.csv'.\n",
      "Data with scores updated to 'portfolios_aes.csv'.\n",
      "periodReturns: (162, 20)\n",
      "x0: 20\n",
      "Data appended to 'portfolios_aes.csv'.\n",
      "Data with scores updated to 'portfolios_aes.csv'.\n",
      "periodReturns: (168, 20)\n",
      "x0: 20\n",
      "Data appended to 'portfolios_aes.csv'.\n",
      "Data with scores updated to 'portfolios_aes.csv'.\n",
      "periodReturns: (174, 20)\n",
      "x0: 20\n",
      "Data appended to 'portfolios_aes.csv'.\n",
      "Data with scores updated to 'portfolios_aes.csv'.\n"
     ]
    }
   ],
   "source": [
    "# Start of out-of-sample test period\n",
    "testStart = returns.index[0] + pd.offsets.DateOffset(years=5)\n",
    "\n",
    "#End of the first investment period\n",
    "testEnd = testStart + pd.offsets.DateOffset(months=investPeriod) -  pd.offsets.DateOffset(days = 1)\n",
    "\n",
    "# End of calibration period\n",
    "calEnd = testStart -  pd.offsets.DateOffset(days = 1)\n",
    "\n",
    "# Total number of investment periods\n",
    "NoPeriods = math.ceil((returns.index[-1].to_period('M') - testStart.to_period('M')).n / investPeriod)\n",
    "\n",
    "# Number of assets\n",
    "n  = len(tickers)\n",
    "\n",
    "# Preallocate space for the portfolio weights (x0 will be used to calculate\n",
    "# the turnover rate)\n",
    "x  = np.zeros([n, NoPeriods])\n",
    "x0 = np.zeros([n, NoPeriods])\n",
    "\n",
    "# Preallocate space for the portfolio per period value and turnover\n",
    "currentVal = np.zeros([NoPeriods, 1])\n",
    "turnover   = np.zeros([NoPeriods, 1])\n",
    "\n",
    "#Initiate counter for the number of observations per investment period\n",
    "toDay = 0\n",
    "\n",
    "# Measure runtime: start the clock\n",
    "start_time = time.time()\n",
    "\n",
    "# Empty list to measure the value of the portfolio over the period\n",
    "portfValue = []\n",
    "\n",
    "for t in range(NoPeriods):\n",
    "    # Subset the returns and factor returns corresponding to the current calibration period.\n",
    "    periodReturns = returns[returns.index <= calEnd]\n",
    "    periodFactRet = factorRet[factorRet.index <= calEnd]\n",
    "\n",
    "    current_price_idx = (calEnd - pd.offsets.DateOffset(months=1) <= adjClose.index)&(adjClose.index <= calEnd)\n",
    "    currentPrices = adjClose[current_price_idx]\n",
    "\n",
    "    # Subset the prices corresponding to the current out-of-sample test period.\n",
    "    periodPrices_idx = (testStart <= adjClose.index)&(adjClose.index <= testEnd)\n",
    "    periodPrices = adjClose[periodPrices_idx]\n",
    "\n",
    "    assert len(periodPrices) == investPeriod\n",
    "    assert len(currentPrices) == 1\n",
    "    # Set the initial value of the portfolio or update the portfolio value\n",
    "    if t == 0:\n",
    "        currentVal[0] = initialVal\n",
    "    else:\n",
    "        currentVal[t] = currentPrices @  NoShares.values.T\n",
    "        #Store the current asset weights (before optimization takes place)\n",
    "        x0[:,t] = currentPrices.values*NoShares.values/currentVal[t]\n",
    "\n",
    "    #----------------------------------------------------------------------\n",
    "    # Portfolio optimization\n",
    "    # You must write code your own algorithmic trading function\n",
    "    #----------------------------------------------------------------------\n",
    "    x[:,t] = project_function(periodReturns, periodFactRet, x0[:,t])\n",
    "\n",
    "    #Calculate the turnover rate\n",
    "    if t > 0:\n",
    "        turnover[t] = np.sum( np.abs( x[:,t] - x0[:,t] ) )\n",
    "\n",
    "    # Number of shares your portfolio holds per stock\n",
    "    NoShares = x[:,t]*currentVal[t]/currentPrices\n",
    "\n",
    "    # Update counter for the number of observations per investment period\n",
    "    fromDay = toDay\n",
    "    toDay   = toDay + len(periodPrices)\n",
    "\n",
    "    # Weekly portfolio value during the out-of-sample window\n",
    "    portfValue.append(periodPrices@ NoShares.values.T)\n",
    "\n",
    "    # Update your calibration and out-of-sample test periods\n",
    "    testStart = testStart + pd.offsets.DateOffset(months=investPeriod)\n",
    "    testEnd   = testStart + pd.offsets.DateOffset(months=investPeriod) - pd.offsets.DateOffset(days=1)\n",
    "    calEnd    = testStart - pd.offsets.DateOffset(days=1)\n",
    "\n",
    "portfValue = pd.concat(portfValue, axis = 0)\n",
    "end_time = time.time()"
   ]
  },
  {
   "cell_type": "markdown",
   "metadata": {
    "collapsed": false
   },
   "source": [
    "# 3. Results"
   ]
  },
  {
   "cell_type": "code",
   "execution_count": 8,
   "metadata": {
    "ExecuteTime": {
     "end_time": "2023-08-26T06:30:58.492925600Z",
     "start_time": "2023-08-26T06:30:58.478925300Z"
    },
    "collapsed": false
   },
   "outputs": [
    {
     "name": "stdout",
     "output_type": "stream",
     "text": [
      "Elasped time is 4.7437744140625 seconds\n",
      "Sharpe ratio:  0.1776592726882367\n",
      "Avg. turnover:  0.11696918769819377\n"
     ]
    }
   ],
   "source": [
    "#--------------------------------------------------------------------------\n",
    "# 3.1 Calculate the portfolio average return, standard deviation, Sharpe ratio and average turnover.\n",
    "#-----------------------------------------------------------------------\n",
    "# Calculate the observed portfolio returns\n",
    "portfRets = portfValue.pct_change(1).iloc[1:,:]\n",
    "\n",
    "# Calculate the portfolio excess returns\n",
    "portfExRets = portfRets.subtract(riskFree[(riskFree.index >= portfRets.index[0])&(riskFree.index <= portfRets.index[-1])], axis = 0)\n",
    "\n",
    "# Calculate the portfolio Sharpe ratio\n",
    "SR = ((portfExRets + 1).apply(gmean, axis=0) - 1)/portfExRets.std()\n",
    "\n",
    "# Calculate the average turnover rate\n",
    "avgTurnover = np.mean(turnover[1:])\n",
    "\n",
    "#Print Sharpe ratio and Avg. turnover to the console\n",
    "print(\"Elasped time is \"+ str(end_time - start_time) + ' seconds')\n",
    "print('Sharpe ratio: ', str(SR[0]))\n",
    "print('Avg. turnover: ', str(avgTurnover))"
   ]
  },
  {
   "cell_type": "code",
   "execution_count": 9,
   "metadata": {
    "ExecuteTime": {
     "end_time": "2023-08-26T06:30:58.985665800Z",
     "start_time": "2023-08-26T06:30:58.493926200Z"
    },
    "collapsed": false
   },
   "outputs": [
    {
     "data": {
      "text/plain": [
       "<Figure size 640x480 with 0 Axes>"
      ]
     },
     "metadata": {},
     "output_type": "display_data"
    },
    {
     "data": {
      "image/png": "[encoded data removed]",
      "text/plain": [
       "<Figure size 600x300 with 1 Axes>"
      ]
     },
     "metadata": {},
     "output_type": "display_data"
    },
    {
     "data": {
      "image/png": "[encoded data removed]",
      "text/plain": [
       "<Figure size 600x300 with 1 Axes>"
      ]
     },
     "metadata": {},
     "output_type": "display_data"
    }
   ],
   "source": [
    "#--------------------------------------------------------------------------\n",
    "# 3.2 Portfolio wealth evolution plot\n",
    "#--------------------------------------------------------------------------\n",
    "# Calculate the dates of the out-of-sample period\n",
    "\n",
    "fig = plt.figure(1)\n",
    "portfValue.plot(title = 'Portfolio wealth evolution',\n",
    "                ylabel = 'Total wealth',\n",
    "                figsize = (6, 3),\n",
    "                legend = False)\n",
    "plt.savefig(\"images/wealth.svg\")\n",
    "\n",
    "#--------------------------------------------------------------------------\n",
    "# 3.3 Portfolio weights plot\n",
    "#--------------------------------------------------------------------------\n",
    "# Portfolio weights\n",
    "\n",
    "fig2 = plt.figure(2);\n",
    "x[x < 0] = 0\n",
    "weights = pd.DataFrame(x, index = tickers)\n",
    "weights.columns = [col + 1 for col in weights.columns]\n",
    "weights.T.plot.area(title = 'Portfolio weights',\n",
    "                  ylabel = 'Weights', xlabel = 'Rebalance Period',\n",
    "                  figsize = (6, 3),\n",
    "                  legend = True, stacked = True)\n",
    "plt.legend(loc='center left', bbox_to_anchor=(1.0, 0.5))\n",
    "plt.savefig(\"images/weights.svg\");\n",
    "#\n",
    "# %%%%%%%%%%%%%%%%%%%%%%%%%%%%%%%%%%%%%%%%%%%%%%%%%%%%%%%%%%%%%%%%%%%%%%%%%%%\n",
    "# % Program End"
   ]
  },
  {
   "cell_type": "markdown",
   "metadata": {
    "collapsed": false
   },
   "source": [
    "### 0.12% maximum absolute difference between the returns generated via Python and returns generated via MATLAB can be observed\n",
    "\n",
    "### Terminal wealth between MATLAB and Python is within 0.1%"
   ]
  }
 ],
 "metadata": {
  "kernelspec": {
   "display_name": "Python 3",
   "language": "python",
   "name": "python3"
  },
  "language_info": {
   "codemirror_mode": {
    "name": "ipython",
    "version": 3
   },
   "file_extension": ".py",
   "mimetype": "text/x-python",
   "name": "python",
   "nbconvert_exporter": "python",
   "pygments_lexer": "ipython3",
   "version": "3.10.6"
  }
 },
 "nbformat": 4,
 "nbformat_minor": 0
}
